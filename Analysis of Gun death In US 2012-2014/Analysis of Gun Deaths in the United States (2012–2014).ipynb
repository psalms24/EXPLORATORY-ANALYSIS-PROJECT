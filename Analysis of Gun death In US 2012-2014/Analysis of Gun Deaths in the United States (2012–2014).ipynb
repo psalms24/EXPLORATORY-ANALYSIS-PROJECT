{
 "cells": [
  {
   "cell_type": "markdown",
   "id": "c9556454",
   "metadata": {},
   "source": [
    "# Analysis of Gun Deaths in the United States (2012–2014)"
   ]
  },
  {
   "cell_type": "markdown",
   "id": "85d04fde",
   "metadata": {},
   "source": [
    "This dataset includes information about gun-death in the US in the years 2012-2014.\n",
    "\n",
    "The data includes data regarding the victim's age, sex, race, education, intent, \n",
    "time (month and year) and place of death, and whether or not police was at the place of death."
   ]
  },
  {
   "cell_type": "markdown",
   "id": "d3e7fe57",
   "metadata": {},
   "source": [
    "# Question to answers\n",
    "\n",
    " 1: How many males and females are included in this study?\n",
    " \n",
    " 2: How many educated females are included in this study?\n",
    " \n",
    " 3: What is the number of suicide gun deaths by gender in the United States from 2012 to 2014, by gender?\n",
    " \n",
    " 4: What is the number of gun deaths by race in the United States per 100,000 people from 2012 to 2014?\n",
    " \n",
    " 5: What is the number of gun deaths in the United States on average from 2012 to 2014, by cause?\n",
    " \n",
    " 6: What is the percentage per 100,000 people of annual gun deaths in the United States from 2012 to 2014, by cause?\n",
    " \n",
    " 7: What is the percentage of suicide gun deaths in the United States from 2012 to 2014, by year?\n",
    " \n",
    " 8: How would you classify death cause by gender?\n",
    " \n",
    " 9: What is the age distribution of death by gun in the US between 2012-2014?\n",
    " \n",
    " 10: Which 5 locations have the highest numbers of gun death in the US between 2012-2014, and what are the leading intents in those locations?"
   ]
  },
  {
   "cell_type": "code",
   "execution_count": 3,
   "id": "958c8710",
   "metadata": {},
   "outputs": [],
   "source": [
    "import pandas as pd\n",
    "import numpy as np\n",
    "import matplotlib.pyplot as plt\n",
    "import seaborn as sns\n",
    "sns.set(style='white', color_codes=True)\n",
    "\n",
    "%matplotlib inline"
   ]
  },
  {
   "cell_type": "code",
   "execution_count": 2,
   "id": "2d25132a",
   "metadata": {},
   "outputs": [
    {
     "name": "stdout",
     "output_type": "stream",
     "text": [
      "Requirement already satisfied: sweetviz in c:\\users\\mafa\\anaconda3\\lib\\site-packages (2.1.3)Note: you may need to restart the kernel to use updated packages.\n",
      "Requirement already satisfied: matplotlib>=3.1.3 in c:\\users\\mafa\\anaconda3\\lib\\site-packages (from sweetviz) (3.3.4)\n",
      "Requirement already satisfied: scipy>=1.3.2 in c:\\users\\mafa\\anaconda3\\lib\\site-packages (from sweetviz) (1.6.2)\n",
      "Requirement already satisfied: numpy>=1.16.0 in c:\\users\\mafa\\anaconda3\\lib\\site-packages (from sweetviz) (1.20.1)\n",
      "Requirement already satisfied: tqdm>=4.43.0 in c:\\users\\mafa\\anaconda3\\lib\\site-packages (from sweetviz) (4.59.0)\n",
      "Requirement already satisfied: pandas!=1.0.0,!=1.0.1,!=1.0.2,>=0.25.3 in c:\\users\\mafa\\anaconda3\\lib\\site-packages (from sweetviz) (1.2.4)\n",
      "Requirement already satisfied: importlib-resources>=1.2.0 in c:\\users\\mafa\\anaconda3\\lib\\site-packages (from sweetviz) (5.4.0)\n",
      "Requirement already satisfied: jinja2>=2.11.1 in c:\\users\\mafa\\anaconda3\\lib\\site-packages (from sweetviz) (2.11.3)\n",
      "Requirement already satisfied: zipp>=3.1.0 in c:\\users\\mafa\\anaconda3\\lib\\site-packages (from importlib-resources>=1.2.0->sweetviz) (3.4.1)\n",
      "Requirement already satisfied: MarkupSafe>=0.23 in c:\\users\\mafa\\anaconda3\\lib\\site-packages (from jinja2>=2.11.1->sweetviz) (1.1.1)\n",
      "Requirement already satisfied: kiwisolver>=1.0.1 in c:\\users\\mafa\\anaconda3\\lib\\site-packages (from matplotlib>=3.1.3->sweetviz) (1.3.1)\n",
      "Requirement already satisfied: pyparsing!=2.0.4,!=2.1.2,!=2.1.6,>=2.0.3 in c:\\users\\mafa\\anaconda3\\lib\\site-packages (from matplotlib>=3.1.3->sweetviz) (2.4.7)\n",
      "Requirement already satisfied: pillow>=6.2.0 in c:\\users\\mafa\\anaconda3\\lib\\site-packages (from matplotlib>=3.1.3->sweetviz) (8.2.0)\n",
      "Requirement already satisfied: python-dateutil>=2.1 in c:\\users\\mafa\\anaconda3\\lib\\site-packages (from matplotlib>=3.1.3->sweetviz) (2.8.1)\n",
      "Requirement already satisfied: cycler>=0.10 in c:\\users\\mafa\\anaconda3\\lib\\site-packages (from matplotlib>=3.1.3->sweetviz) (0.10.0)\n",
      "Requirement already satisfied: six in c:\\users\\mafa\\anaconda3\\lib\\site-packages (from cycler>=0.10->matplotlib>=3.1.3->sweetviz) (1.15.0)\n",
      "Requirement already satisfied: pytz>=2017.3 in c:\\users\\mafa\\anaconda3\\lib\\site-packages (from pandas!=1.0.0,!=1.0.1,!=1.0.2,>=0.25.3->sweetviz) (2021.1)\n",
      "\n"
     ]
    }
   ],
   "source": [
    "pip install sweetviz"
   ]
  },
  {
   "cell_type": "code",
   "execution_count": 4,
   "id": "e99582b9",
   "metadata": {},
   "outputs": [
    {
     "name": "stdout",
     "output_type": "stream",
     "text": [
      "(100798, 10)\n"
     ]
    },
    {
     "data": {
      "text/html": [
       "<div>\n",
       "<style scoped>\n",
       "    .dataframe tbody tr th:only-of-type {\n",
       "        vertical-align: middle;\n",
       "    }\n",
       "\n",
       "    .dataframe tbody tr th {\n",
       "        vertical-align: top;\n",
       "    }\n",
       "\n",
       "    .dataframe thead th {\n",
       "        text-align: right;\n",
       "    }\n",
       "</style>\n",
       "<table border=\"1\" class=\"dataframe\">\n",
       "  <thead>\n",
       "    <tr style=\"text-align: right;\">\n",
       "      <th></th>\n",
       "      <th>Year</th>\n",
       "      <th>Month</th>\n",
       "      <th>Intent</th>\n",
       "      <th>Police</th>\n",
       "      <th>Sex</th>\n",
       "      <th>Age</th>\n",
       "      <th>Race</th>\n",
       "      <th>Hispanic</th>\n",
       "      <th>Place</th>\n",
       "      <th>Education</th>\n",
       "    </tr>\n",
       "    <tr>\n",
       "      <th>Index</th>\n",
       "      <th></th>\n",
       "      <th></th>\n",
       "      <th></th>\n",
       "      <th></th>\n",
       "      <th></th>\n",
       "      <th></th>\n",
       "      <th></th>\n",
       "      <th></th>\n",
       "      <th></th>\n",
       "      <th></th>\n",
       "    </tr>\n",
       "  </thead>\n",
       "  <tbody>\n",
       "    <tr>\n",
       "      <th>1</th>\n",
       "      <td>2012</td>\n",
       "      <td>1</td>\n",
       "      <td>Suicide</td>\n",
       "      <td>0</td>\n",
       "      <td>M</td>\n",
       "      <td>34.0</td>\n",
       "      <td>Asian/Pacific Islander</td>\n",
       "      <td>100</td>\n",
       "      <td>Home</td>\n",
       "      <td>4.0</td>\n",
       "    </tr>\n",
       "    <tr>\n",
       "      <th>2</th>\n",
       "      <td>2012</td>\n",
       "      <td>1</td>\n",
       "      <td>Suicide</td>\n",
       "      <td>0</td>\n",
       "      <td>F</td>\n",
       "      <td>21.0</td>\n",
       "      <td>White</td>\n",
       "      <td>100</td>\n",
       "      <td>Street</td>\n",
       "      <td>3.0</td>\n",
       "    </tr>\n",
       "    <tr>\n",
       "      <th>3</th>\n",
       "      <td>2012</td>\n",
       "      <td>1</td>\n",
       "      <td>Suicide</td>\n",
       "      <td>0</td>\n",
       "      <td>M</td>\n",
       "      <td>60.0</td>\n",
       "      <td>White</td>\n",
       "      <td>100</td>\n",
       "      <td>Other specified</td>\n",
       "      <td>4.0</td>\n",
       "    </tr>\n",
       "    <tr>\n",
       "      <th>4</th>\n",
       "      <td>2012</td>\n",
       "      <td>2</td>\n",
       "      <td>Suicide</td>\n",
       "      <td>0</td>\n",
       "      <td>M</td>\n",
       "      <td>64.0</td>\n",
       "      <td>White</td>\n",
       "      <td>100</td>\n",
       "      <td>Home</td>\n",
       "      <td>4.0</td>\n",
       "    </tr>\n",
       "    <tr>\n",
       "      <th>5</th>\n",
       "      <td>2012</td>\n",
       "      <td>2</td>\n",
       "      <td>Suicide</td>\n",
       "      <td>0</td>\n",
       "      <td>M</td>\n",
       "      <td>31.0</td>\n",
       "      <td>White</td>\n",
       "      <td>100</td>\n",
       "      <td>Other specified</td>\n",
       "      <td>2.0</td>\n",
       "    </tr>\n",
       "  </tbody>\n",
       "</table>\n",
       "</div>"
      ],
      "text/plain": [
       "       Year  Month   Intent  Police Sex   Age                    Race  \\\n",
       "Index                                                                   \n",
       "1      2012      1  Suicide       0   M  34.0  Asian/Pacific Islander   \n",
       "2      2012      1  Suicide       0   F  21.0                   White   \n",
       "3      2012      1  Suicide       0   M  60.0                   White   \n",
       "4      2012      2  Suicide       0   M  64.0                   White   \n",
       "5      2012      2  Suicide       0   M  31.0                   White   \n",
       "\n",
       "       Hispanic            Place  Education  \n",
       "Index                                        \n",
       "1           100             Home        4.0  \n",
       "2           100           Street        3.0  \n",
       "3           100  Other specified        4.0  \n",
       "4           100             Home        4.0  \n",
       "5           100  Other specified        2.0  "
      ]
     },
     "execution_count": 4,
     "metadata": {},
     "output_type": "execute_result"
    }
   ],
   "source": [
    "dataset = pd.read_csv('guns.csv', index_col=0)\n",
    "print(dataset.shape)\n",
    "dataset.index.name = 'Index'\n",
    "dataset.columns = map(str.capitalize, dataset.columns)\n",
    "dataset.head(5)"
   ]
  },
  {
   "cell_type": "code",
   "execution_count": 5,
   "id": "cc89f31b",
   "metadata": {},
   "outputs": [
    {
     "data": {
      "application/vnd.jupyter.widget-view+json": {
       "model_id": "b07bf295a82a4a2f91498dd3ae38727e",
       "version_major": 2,
       "version_minor": 0
      },
      "text/plain": [
       "                                             |                                             | [  0%]   00:00 ->…"
      ]
     },
     "metadata": {},
     "output_type": "display_data"
    },
    {
     "name": "stdout",
     "output_type": "stream",
     "text": [
      "Report sweet_report.html was generated! NOTEBOOK/COLAB USERS: the web browser MAY not pop up, regardless, the report IS saved in your notebook/colab files.\n"
     ]
    }
   ],
   "source": [
    "import sweetviz as sv\n",
    "sweet_report = sv.analyze(dataset)\n",
    "sweet_report.show_html('sweet_report.html')"
   ]
  },
  {
   "cell_type": "code",
   "execution_count": 99,
   "id": "ed9c621c",
   "metadata": {},
   "outputs": [
    {
     "data": {
      "text/html": [
       "<div>\n",
       "<style scoped>\n",
       "    .dataframe tbody tr th:only-of-type {\n",
       "        vertical-align: middle;\n",
       "    }\n",
       "\n",
       "    .dataframe tbody tr th {\n",
       "        vertical-align: top;\n",
       "    }\n",
       "\n",
       "    .dataframe thead th {\n",
       "        text-align: right;\n",
       "    }\n",
       "</style>\n",
       "<table border=\"1\" class=\"dataframe\">\n",
       "  <thead>\n",
       "    <tr style=\"text-align: right;\">\n",
       "      <th></th>\n",
       "      <th>Year</th>\n",
       "      <th>Month</th>\n",
       "      <th>Police</th>\n",
       "      <th>Age</th>\n",
       "      <th>Hispanic</th>\n",
       "      <th>Education</th>\n",
       "    </tr>\n",
       "  </thead>\n",
       "  <tbody>\n",
       "    <tr>\n",
       "      <th>count</th>\n",
       "      <td>100798.000000</td>\n",
       "      <td>100798.000000</td>\n",
       "      <td>100798.000000</td>\n",
       "      <td>100780.000000</td>\n",
       "      <td>100798.000000</td>\n",
       "      <td>100745.000000</td>\n",
       "    </tr>\n",
       "    <tr>\n",
       "      <th>mean</th>\n",
       "      <td>2013.000357</td>\n",
       "      <td>6.567601</td>\n",
       "      <td>0.013909</td>\n",
       "      <td>43.857601</td>\n",
       "      <td>114.179607</td>\n",
       "      <td>2.296352</td>\n",
       "    </tr>\n",
       "    <tr>\n",
       "      <th>std</th>\n",
       "      <td>0.816278</td>\n",
       "      <td>3.405609</td>\n",
       "      <td>0.117114</td>\n",
       "      <td>19.496181</td>\n",
       "      <td>61.595734</td>\n",
       "      <td>0.990105</td>\n",
       "    </tr>\n",
       "    <tr>\n",
       "      <th>min</th>\n",
       "      <td>2012.000000</td>\n",
       "      <td>1.000000</td>\n",
       "      <td>0.000000</td>\n",
       "      <td>0.000000</td>\n",
       "      <td>100.000000</td>\n",
       "      <td>1.000000</td>\n",
       "    </tr>\n",
       "    <tr>\n",
       "      <th>25%</th>\n",
       "      <td>2012.000000</td>\n",
       "      <td>4.000000</td>\n",
       "      <td>0.000000</td>\n",
       "      <td>27.000000</td>\n",
       "      <td>100.000000</td>\n",
       "      <td>2.000000</td>\n",
       "    </tr>\n",
       "    <tr>\n",
       "      <th>50%</th>\n",
       "      <td>2013.000000</td>\n",
       "      <td>7.000000</td>\n",
       "      <td>0.000000</td>\n",
       "      <td>42.000000</td>\n",
       "      <td>100.000000</td>\n",
       "      <td>2.000000</td>\n",
       "    </tr>\n",
       "    <tr>\n",
       "      <th>75%</th>\n",
       "      <td>2014.000000</td>\n",
       "      <td>9.000000</td>\n",
       "      <td>0.000000</td>\n",
       "      <td>58.000000</td>\n",
       "      <td>100.000000</td>\n",
       "      <td>3.000000</td>\n",
       "    </tr>\n",
       "    <tr>\n",
       "      <th>max</th>\n",
       "      <td>2014.000000</td>\n",
       "      <td>12.000000</td>\n",
       "      <td>1.000000</td>\n",
       "      <td>107.000000</td>\n",
       "      <td>998.000000</td>\n",
       "      <td>5.000000</td>\n",
       "    </tr>\n",
       "  </tbody>\n",
       "</table>\n",
       "</div>"
      ],
      "text/plain": [
       "                Year          Month         Police            Age  \\\n",
       "count  100798.000000  100798.000000  100798.000000  100780.000000   \n",
       "mean     2013.000357       6.567601       0.013909      43.857601   \n",
       "std         0.816278       3.405609       0.117114      19.496181   \n",
       "min      2012.000000       1.000000       0.000000       0.000000   \n",
       "25%      2012.000000       4.000000       0.000000      27.000000   \n",
       "50%      2013.000000       7.000000       0.000000      42.000000   \n",
       "75%      2014.000000       9.000000       0.000000      58.000000   \n",
       "max      2014.000000      12.000000       1.000000     107.000000   \n",
       "\n",
       "            Hispanic      Education  \n",
       "count  100798.000000  100745.000000  \n",
       "mean      114.179607       2.296352  \n",
       "std        61.595734       0.990105  \n",
       "min       100.000000       1.000000  \n",
       "25%       100.000000       2.000000  \n",
       "50%       100.000000       2.000000  \n",
       "75%       100.000000       3.000000  \n",
       "max       998.000000       5.000000  "
      ]
     },
     "execution_count": 99,
     "metadata": {},
     "output_type": "execute_result"
    }
   ],
   "source": [
    "dataset.describe()"
   ]
  },
  {
   "cell_type": "markdown",
   "id": "f77b46eb",
   "metadata": {},
   "source": [
    "This data shows that at least a baby(<1) and a senior(>100) is involved in gun death in the US"
   ]
  },
  {
   "cell_type": "markdown",
   "id": "11bc501b",
   "metadata": {},
   "source": [
    "Organize the data set by year and then by month."
   ]
  },
  {
   "cell_type": "code",
   "execution_count": 5,
   "id": "b3089a88",
   "metadata": {},
   "outputs": [],
   "source": [
    "df_Gun = dataset\n",
    "df_Gun.sort_values(['Year', 'Month'], inplace=True)"
   ]
  },
  {
   "cell_type": "markdown",
   "id": "073b9f8c",
   "metadata": {},
   "source": [
    "# Finding mixing data"
   ]
  },
  {
   "cell_type": "code",
   "execution_count": 101,
   "id": "87617ed1",
   "metadata": {
    "scrolled": true
   },
   "outputs": [
    {
     "data": {
      "text/plain": [
       "Place        0.013730\n",
       "Education    0.000526\n",
       "Age          0.000179\n",
       "Intent       0.000010\n",
       "Year         0.000000\n",
       "Month        0.000000\n",
       "Police       0.000000\n",
       "Sex          0.000000\n",
       "Race         0.000000\n",
       "Hispanic     0.000000\n",
       "dtype: float64"
      ]
     },
     "execution_count": 101,
     "metadata": {},
     "output_type": "execute_result"
    }
   ],
   "source": [
    "missing_values = df_Gun.isna().sum().sort_values(ascending = False) / len(df_Gun)\n",
    "missing_values"
   ]
  },
  {
   "cell_type": "markdown",
   "id": "f6992cc6",
   "metadata": {},
   "source": [
    "The percentage of missing data in this dataset is too negligible for reasonable replacement. Therefore we can process with \n",
    "our analysis"
   ]
  },
  {
   "cell_type": "markdown",
   "id": "ea5c405c",
   "metadata": {},
   "source": [
    "## Question 1: How many males and females are included in this study?"
   ]
  },
  {
   "cell_type": "code",
   "execution_count": 6,
   "id": "ec8f2bf8",
   "metadata": {},
   "outputs": [
    {
     "data": {
      "text/plain": [
       "M    86349\n",
       "F    14449\n",
       "Name: Sex, dtype: int64"
      ]
     },
     "execution_count": 6,
     "metadata": {},
     "output_type": "execute_result"
    }
   ],
   "source": [
    "df_Gun.Sex.value_counts(normalize=False)"
   ]
  },
  {
   "cell_type": "code",
   "execution_count": 102,
   "id": "51def829",
   "metadata": {},
   "outputs": [
    {
     "data": {
      "text/plain": [
       "<AxesSubplot:xlabel='Sex', ylabel='count'>"
      ]
     },
     "execution_count": 102,
     "metadata": {},
     "output_type": "execute_result"
    },
    {
     "data": {
      "image/png": "[encoded data removed]",
      "text/plain": [
       "<Figure size 432x288 with 1 Axes>"
      ]
     },
     "metadata": {},
     "output_type": "display_data"
    }
   ],
   "source": [
    "sns.set_style(\"whitegrid\")\n",
    "sns.countplot(x=\"Sex\", data=df_Gun)"
   ]
  },
  {
   "cell_type": "markdown",
   "id": "3d4f53a7",
   "metadata": {},
   "source": [
    "## Question 2: How many educated females are included in this study?"
   ]
  },
  {
   "cell_type": "code",
   "execution_count": 8,
   "id": "0fb8451d",
   "metadata": {},
   "outputs": [
    {
     "data": {
      "text/html": [
       "<div>\n",
       "<style scoped>\n",
       "    .dataframe tbody tr th:only-of-type {\n",
       "        vertical-align: middle;\n",
       "    }\n",
       "\n",
       "    .dataframe tbody tr th {\n",
       "        vertical-align: top;\n",
       "    }\n",
       "\n",
       "    .dataframe thead th {\n",
       "        text-align: right;\n",
       "    }\n",
       "</style>\n",
       "<table border=\"1\" class=\"dataframe\">\n",
       "  <thead>\n",
       "    <tr style=\"text-align: right;\">\n",
       "      <th></th>\n",
       "      <th>Year</th>\n",
       "      <th>Month</th>\n",
       "      <th>Intent</th>\n",
       "      <th>Police</th>\n",
       "      <th>Age</th>\n",
       "      <th>Race</th>\n",
       "      <th>Hispanic</th>\n",
       "      <th>Place</th>\n",
       "      <th>Education</th>\n",
       "    </tr>\n",
       "    <tr>\n",
       "      <th>Sex</th>\n",
       "      <th></th>\n",
       "      <th></th>\n",
       "      <th></th>\n",
       "      <th></th>\n",
       "      <th></th>\n",
       "      <th></th>\n",
       "      <th></th>\n",
       "      <th></th>\n",
       "      <th></th>\n",
       "    </tr>\n",
       "  </thead>\n",
       "  <tbody>\n",
       "    <tr>\n",
       "      <th>F</th>\n",
       "      <td>14449</td>\n",
       "      <td>14449</td>\n",
       "      <td>14449</td>\n",
       "      <td>14449</td>\n",
       "      <td>14446</td>\n",
       "      <td>14449</td>\n",
       "      <td>14449</td>\n",
       "      <td>14386</td>\n",
       "      <td>14430</td>\n",
       "    </tr>\n",
       "    <tr>\n",
       "      <th>M</th>\n",
       "      <td>86349</td>\n",
       "      <td>86349</td>\n",
       "      <td>86348</td>\n",
       "      <td>86349</td>\n",
       "      <td>86334</td>\n",
       "      <td>86349</td>\n",
       "      <td>86349</td>\n",
       "      <td>85028</td>\n",
       "      <td>86315</td>\n",
       "    </tr>\n",
       "  </tbody>\n",
       "</table>\n",
       "</div>"
      ],
      "text/plain": [
       "      Year  Month  Intent  Police    Age   Race  Hispanic  Place  Education\n",
       "Sex                                                                        \n",
       "F    14449  14449   14449   14449  14446  14449     14449  14386      14430\n",
       "M    86349  86349   86348   86349  86334  86349     86349  85028      86315"
      ]
     },
     "execution_count": 8,
     "metadata": {},
     "output_type": "execute_result"
    }
   ],
   "source": [
    "df_byGender = df_Gun.groupby('Sex').count()\n",
    "df_byGender"
   ]
  },
  {
   "cell_type": "markdown",
   "id": "ad5f02a8",
   "metadata": {},
   "source": [
    "## Question 3: What is the number of suicide gun deaths by gender in the United States from 2012 to 2014, by gender?"
   ]
  },
  {
   "cell_type": "code",
   "execution_count": 11,
   "id": "2a68f74b",
   "metadata": {},
   "outputs": [
    {
     "data": {
      "text/plain": [
       "<AxesSubplot:title={'center':'Annual U.S.\\\\suicide gun deaths \\n 2012-2014, by gender'}>"
      ]
     },
     "execution_count": 11,
     "metadata": {},
     "output_type": "execute_result"
    },
    {
     "data": {
      "image/png": "[encoded data removed]",
      "text/plain": [
       "<Figure size 432x288 with 1 Axes>"
      ]
     },
     "metadata": {
      "needs_background": "light"
     },
     "output_type": "display_data"
    }
   ],
   "source": [
    "df_suicide_Gender =df_Gun[df_Gun[\"Intent\"] ==\"Suicide\"]\n",
    "df_suicide_Gender.Sex.value_counts(normalize=False).plot.bar(title='Annual U.S.\\\\suicide gun deaths \\n 2012-2014, by gender')"
   ]
  },
  {
   "cell_type": "markdown",
   "id": "4f6cd49e",
   "metadata": {},
   "source": [
    "There are huge differences between males and females. The number of male suicides by gun is above 50,000, while the female death rate is below 10,000, which shows how males are more likely to commit suicide using a gun than females."
   ]
  },
  {
   "cell_type": "code",
   "execution_count": 18,
   "id": "cf86298d",
   "metadata": {},
   "outputs": [
    {
     "data": {
      "text/plain": [
       "<AxesSubplot:title={'center':'Annual U.S. suicide gun deaths \\n 2012-2014, by gender'}, xlabel='Sex'>"
      ]
     },
     "execution_count": 18,
     "metadata": {},
     "output_type": "execute_result"
    },
    {
     "data": {
      "image/png": "[encoded data removed]",
      "text/plain": [
       "<Figure size 432x288 with 1 Axes>"
      ]
     },
     "metadata": {
      "needs_background": "light"
     },
     "output_type": "display_data"
    }
   ],
   "source": [
    "df_byGender = df_Gun.groupby('Sex').count()\n",
    "df_byGender.plot.bar(title='Annual U.S. suicide gun deaths \\n 2012-2014, by gender')"
   ]
  },
  {
   "cell_type": "markdown",
   "id": "6fbd2002",
   "metadata": {},
   "source": [
    "## Question 4: What is the number of gun deaths by race in the United States per 100,000 people from 2012 to 2014?"
   ]
  },
  {
   "cell_type": "code",
   "execution_count": 85,
   "id": "398289ed",
   "metadata": {},
   "outputs": [
    {
     "data": {
      "text/plain": [
       "White                             66.237\n",
       "Black                             23.296\n",
       "Hispanic                           9.022\n",
       "Asian/Pacific Islander             1.326\n",
       "Native American/Native Alaskan     0.917\n",
       "Name: Race, dtype: float64"
      ]
     },
     "execution_count": 85,
     "metadata": {},
     "output_type": "execute_result"
    }
   ],
   "source": [
    "df_byRace = df_Gun\n",
    "(df_byRace.Race.value_counts(ascending=False)*100/100000)"
   ]
  },
  {
   "cell_type": "code",
   "execution_count": 84,
   "id": "47e91389",
   "metadata": {},
   "outputs": [
    {
     "data": {
      "text/plain": [
       "<AxesSubplot:title={'center':'Percent death toll from guns in the United States \\nfrom 2012 to 2014, by race'}>"
      ]
     },
     "execution_count": 84,
     "metadata": {},
     "output_type": "execute_result"
    },
    {
     "data": {
      "image/png": "[encoded data removed]",
      "text/plain": [
       "<Figure size 432x288 with 1 Axes>"
      ]
     },
     "metadata": {
      "needs_background": "light"
     },
     "output_type": "display_data"
    }
   ],
   "source": [
    "(df_byRace.Race.value_counts(ascending=True)*100/100000).plot.bar(title='Percent death toll from guns in the United States \\nfrom 2012 to 2014, by race')"
   ]
  },
  {
   "cell_type": "markdown",
   "id": "0e9ac09f",
   "metadata": {},
   "source": [
    "The highest death rate was for white people, then black, and then Hispanic. There are a few other races listed, but the rates are small comparatively."
   ]
  },
  {
   "cell_type": "markdown",
   "id": "26979105",
   "metadata": {},
   "source": [
    "## Question 5: What is the number of gun deaths in the United States on average from 2012 to 2014, by cause?"
   ]
  },
  {
   "cell_type": "code",
   "execution_count": 86,
   "id": "7f3bf48b",
   "metadata": {},
   "outputs": [
    {
     "data": {
      "text/plain": [
       "Suicide         63175\n",
       "Homicide        35176\n",
       "Accidental       1639\n",
       "Undetermined      807\n",
       "Name: Intent, dtype: int64"
      ]
     },
     "execution_count": 86,
     "metadata": {},
     "output_type": "execute_result"
    }
   ],
   "source": [
    "df_byRace.Intent.value_counts(sort =True, ascending=False)"
   ]
  },
  {
   "cell_type": "code",
   "execution_count": 89,
   "id": "a0f2ffd8",
   "metadata": {},
   "outputs": [
    {
     "data": {
      "text/plain": [
       "<AxesSubplot:title={'center':'Annual number of gun deaths in the United States on average \\n from 2012 to 2014, by cause'}>"
      ]
     },
     "execution_count": 89,
     "metadata": {},
     "output_type": "execute_result"
    },
    {
     "data": {
      "image/png": "[encoded data removed]",
      "text/plain": [
       "<Figure size 432x288 with 1 Axes>"
      ]
     },
     "metadata": {
      "needs_background": "light"
     },
     "output_type": "display_data"
    }
   ],
   "source": [
    "df_byRace.Intent.value_counts(sort=True).plot.bar(title='Annual number of gun deaths in the United States on average \\n from 2012 to 2014, by cause')"
   ]
  },
  {
   "cell_type": "markdown",
   "id": "595d6480",
   "metadata": {},
   "source": [
    "## Question 6: What is the percentage per 100,000 people of annual gun deaths in the United States from 2012 to 2014, by cause?"
   ]
  },
  {
   "cell_type": "code",
   "execution_count": 90,
   "id": "f62e3c80",
   "metadata": {},
   "outputs": [
    {
     "data": {
      "text/plain": [
       "Suicide         63.175\n",
       "Homicide        35.176\n",
       "Accidental       1.639\n",
       "Undetermined     0.807\n",
       "Name: Intent, dtype: float64"
      ]
     },
     "execution_count": 90,
     "metadata": {},
     "output_type": "execute_result"
    }
   ],
   "source": [
    "df_byRace.Intent.value_counts(ascending=False)*100/100000"
   ]
  },
  {
   "cell_type": "code",
   "execution_count": 91,
   "id": "18be74e6",
   "metadata": {},
   "outputs": [
    {
     "data": {
      "text/plain": [
       "<AxesSubplot:title={'center':'Rate gun deaths in the U.S. per 100,000 population \\n2012-2014, by race'}>"
      ]
     },
     "execution_count": 91,
     "metadata": {},
     "output_type": "execute_result"
    },
    {
     "data": {
      "image/png": "[encoded data removed]",
      "text/plain": [
       "<Figure size 432x288 with 1 Axes>"
      ]
     },
     "metadata": {
      "needs_background": "light"
     },
     "output_type": "display_data"
    }
   ],
   "source": [
    "(df_byRace.Intent.value_counts(ascending=False)\n",
    "*100/100000).plot.bar(title='Rate gun deaths in the U.S. per 100,000 population \\n2012-2014, by race')"
   ]
  },
  {
   "cell_type": "markdown",
   "id": "e7fddfe2",
   "metadata": {},
   "source": [
    "There are 60 suicide cases for every 100,000 people. In addition, there are 30 homicide cases for every 100,000."
   ]
  },
  {
   "cell_type": "markdown",
   "id": "b497e361",
   "metadata": {},
   "source": [
    "## Question 7: What is the percentage of suicide gun deaths in the United States from 2012 to 2014, by year?"
   ]
  },
  {
   "cell_type": "code",
   "execution_count": 94,
   "id": "85e53d28",
   "metadata": {},
   "outputs": [
    {
     "data": {
      "text/plain": [
       "2012    20.666\n",
       "2013    21.175\n",
       "2014    21.334\n",
       "Name: Year, dtype: float64"
      ]
     },
     "execution_count": 94,
     "metadata": {},
     "output_type": "execute_result"
    }
   ],
   "source": [
    "df_suicide=df_Gun[ df_Gun[\"Intent\"]==\"Suicide\"]\n",
    "df_GunSuicide= df_suicide.Year.value_counts(ascending=False) *100/100000\n",
    "df_GunSuicide.sort_values(ascending=True)"
   ]
  },
  {
   "cell_type": "code",
   "execution_count": 96,
   "id": "733c86c9",
   "metadata": {},
   "outputs": [
    {
     "data": {
      "text/plain": [
       "<AxesSubplot:title={'center':'Percentage of annual suicide gun deaths in the United States \\nfrom 2012 to 2014, by year'}>"
      ]
     },
     "execution_count": 96,
     "metadata": {},
     "output_type": "execute_result"
    },
    {
     "data": {
      "image/png": "[encoded data removed]",
      "text/plain": [
       "<Figure size 432x288 with 1 Axes>"
      ]
     },
     "metadata": {
      "needs_background": "light"
     },
     "output_type": "display_data"
    }
   ],
   "source": [
    "df_GunSuicide.sort_values(ascending=True).plot.bar(title='Percentage of annual suicide gun deaths in the United States \\nfrom 2012 to 2014, by year')"
   ]
  },
  {
   "cell_type": "markdown",
   "id": "28bbdac5",
   "metadata": {},
   "source": [
    "Almost the same number of suicides each year over three years, which means that this is a regular pattern."
   ]
  },
  {
   "cell_type": "markdown",
   "id": "6345e88c",
   "metadata": {},
   "source": [
    "## Question 8: How would you classify death cause by gender?"
   ]
  },
  {
   "cell_type": "code",
   "execution_count": 103,
   "id": "4aa15a15",
   "metadata": {},
   "outputs": [
    {
     "data": {
      "text/plain": [
       "<AxesSubplot:xlabel='Sex', ylabel='count'>"
      ]
     },
     "execution_count": 103,
     "metadata": {},
     "output_type": "execute_result"
    },
    {
     "data": {
      "image/png": "[encoded data removed]",
      "text/plain": [
       "<Figure size 432x288 with 1 Axes>"
      ]
     },
     "metadata": {},
     "output_type": "display_data"
    }
   ],
   "source": [
    "sns.set_style(\"whitegrid\")\n",
    "sns.countplot(x=\"Sex\", hue=\"Intent\", data=df_Gun, palette=\"rainbow\")"
   ]
  },
  {
   "cell_type": "markdown",
   "id": "5baabfac",
   "metadata": {},
   "source": [
    "The female have less than 10,000 suicide and homicide cases respectively, and less than 1,000 Accidental cases. This report\n",
    "shows that males are 5times more likely to commit suicide by gun in the US than Females."
   ]
  },
  {
   "cell_type": "markdown",
   "id": "fdf1848f",
   "metadata": {},
   "source": [
    "## Question 9: What is the age distribution of death by gun in the US between 2012-2014?"
   ]
  },
  {
   "cell_type": "code",
   "execution_count": 104,
   "id": "ac35190b",
   "metadata": {},
   "outputs": [
    {
     "data": {
      "text/plain": [
       "<AxesSubplot:>"
      ]
     },
     "execution_count": 104,
     "metadata": {},
     "output_type": "execute_result"
    },
    {
     "data": {
      "image/png": "[encoded data removed]",
      "text/plain": [
       "<Figure size 432x288 with 1 Axes>"
      ]
     },
     "metadata": {},
     "output_type": "display_data"
    }
   ],
   "source": [
    "df_Gun[\"Age\"].hist(bins=30, color=\"darkred\", alpha=0.3)"
   ]
  },
  {
   "cell_type": "markdown",
   "id": "f0af5b69",
   "metadata": {},
   "source": [
    "The report shows that most deaths by gun in the US range from the teenage age(18) to the sixties(60s) "
   ]
  },
  {
   "cell_type": "markdown",
   "id": "824f50b0",
   "metadata": {},
   "source": [
    "## Question 10: Which 5 locations have the highest numbers of gun death in the US between 2012-2014, and what are the leading intents in those locations?"
   ]
  },
  {
   "cell_type": "code",
   "execution_count": 113,
   "id": "98c7f0c3",
   "metadata": {},
   "outputs": [
    {
     "data": {
      "text/plain": [
       "Home                       60486\n",
       "Other specified            13751\n",
       "Street                     11151\n",
       "Other unspecified           8867\n",
       "Trade/service area          3439\n",
       "School/instiution            671\n",
       "Farm                         470\n",
       "Industrial/construction      248\n",
       "Residential institution      203\n",
       "Sports                       128\n",
       "Name: Place, dtype: int64"
      ]
     },
     "execution_count": 113,
     "metadata": {},
     "output_type": "execute_result"
    }
   ],
   "source": [
    "df_byPlace = df_Gun\n",
    "(df_byPlace.Place.value_counts(ascending=False))"
   ]
  },
  {
   "cell_type": "code",
   "execution_count": 114,
   "id": "a0d45f79",
   "metadata": {},
   "outputs": [
    {
     "data": {
      "text/plain": [
       "<AxesSubplot:title={'center':'Rate gun deaths in the U.S. \\n2012-2014, by Place of incidence'}>"
      ]
     },
     "execution_count": 114,
     "metadata": {},
     "output_type": "execute_result"
    },
    {
     "data": {
      "image/png": "[encoded data removed]",
      "text/plain": [
       "<Figure size 432x288 with 1 Axes>"
      ]
     },
     "metadata": {},
     "output_type": "display_data"
    }
   ],
   "source": [
    "(df_byPlace.Place.value_counts(ascending=False)).plot.bar(title='Rate gun deaths in the U.S. \\n2012-2014, by Place of incidence')"
   ]
  },
  {
   "cell_type": "markdown",
   "id": "44f899da",
   "metadata": {},
   "source": [
    "Home has the highest number of death by gun, followed by Other specified location, street and unspecified places.Trade \n",
    "and service area is 5th on the rank."
   ]
  },
  {
   "cell_type": "code",
   "execution_count": 111,
   "id": "08d19886",
   "metadata": {},
   "outputs": [
    {
     "data": {
      "text/plain": [
       "<AxesSubplot:xlabel='Intent', ylabel='count'>"
      ]
     },
     "execution_count": 111,
     "metadata": {},
     "output_type": "execute_result"
    },
    {
     "data": {
      "image/png": "[encoded data removed]",
      "text/plain": [
       "<Figure size 432x288 with 1 Axes>"
      ]
     },
     "metadata": {},
     "output_type": "display_data"
    }
   ],
   "source": [
    "sns.set_style(\"whitegrid\")\n",
    "sns.countplot(x=\"Intent\", hue=\"Place\", data=df_Gun, palette=\"rainbow\")"
   ]
  },
  {
   "cell_type": "markdown",
   "id": "b61d7a1e",
   "metadata": {},
   "source": [
    "It is observed that most deaths by gun occurred at home (suicide was the leading intent) with over 40,000 cases followed by \n",
    "homicide with over 10,000 cases, then accident with over 1,000 cases. \n",
    "Street has a higher number of homicide cases than suicide. Street has close to 10,000 cases of homicide. \n",
    "Followed by other specified and unspecified locations."
   ]
  },
  {
   "cell_type": "code",
   "execution_count": 46,
   "id": "4ab7e558",
   "metadata": {},
   "outputs": [
    {
     "data": {
      "text/plain": [
       "<AxesSubplot:xlabel='Month', ylabel='count'>"
      ]
     },
     "execution_count": 46,
     "metadata": {},
     "output_type": "execute_result"
    },
    {
     "data": {
      "image/png": "[encoded data removed]",
      "text/plain": [
       "<Figure size 600x400 with 1 Axes>"
      ]
     },
     "metadata": {},
     "output_type": "display_data"
    }
   ],
   "source": [
    "sns.set_style(\"whitegrid\")\n",
    "sns.countplot(x=\"Month\", data=dataset, palette = \"rainbow\")"
   ]
  },
  {
   "cell_type": "code",
   "execution_count": 49,
   "id": "fc219620",
   "metadata": {},
   "outputs": [
    {
     "data": {
      "text/plain": [
       "<AxesSubplot:xlabel='Race', ylabel='count'>"
      ]
     },
     "execution_count": 49,
     "metadata": {},
     "output_type": "execute_result"
    },
    {
     "data": {
      "image/png": "[encoded data removed]",
      "text/plain": [
       "<Figure size 600x400 with 1 Axes>"
      ]
     },
     "metadata": {},
     "output_type": "display_data"
    }
   ],
   "source": [
    "sns.set_style(\"whitegrid\")\n",
    "sns.countplot(x=\"Race\", hue= \"Intent\", data=dataset, palette = \"rainbow\")"
   ]
  },
  {
   "cell_type": "markdown",
   "id": "968be40f",
   "metadata": {},
   "source": [
    "## Insights drawn"
   ]
  },
  {
   "cell_type": "markdown",
   "id": "f370c967",
   "metadata": {},
   "source": [
    "1. This data shows that at least a baby(<1) and a senior(>100) is involved in gun death in the US.\n",
    "\n",
    "2. Male suicide gun deaths is more than 50,000, while females suicide gun deaths is below 10,000, which shows how males are more likely to commit suicide with a gun than female. It reveals that males in the US are 5times more likely to commit suicide by gun than the females.\n",
    "\n",
    "3. The highest number of deaths is for white people(almost 3times more than the black), followed by black, and then Hispanic.\n",
    "\n",
    "4. There is a high number of suicide and homicide deaths compared to a low number of deaths due to accidents. Suicide case is most common among the white, while homicide case is most common among the black.\n",
    "\n",
    "5. There are 60 suicide cases for every 100,000 people, which is not a high rate. In addition, there are 30 homicide cases for every 100,000 people.\n",
    "\n",
    "6. The analysis shows almost the same number of suicides each year over a period of three years, which means that this is like a regular pattern in US.\n",
    "\n",
    "7. The report shows that most deaths by gun in the US range from the teenage age(18) to the sixties(60s). Suicide case is highest among people of age 20-21, followed by age 34.   \n",
    "\n",
    "8. Home has the highest number of death by gun, followed by Other specified location, street and unspecified places.Trade and service area is 5th on the rank. This explains why most suicide cases occur at home, perhaps due to the privacy it provides. However, Street has the higher number of homicide cases than suicide. \n",
    "\n",
    "9. The data shows that gun deaths in the US is highest in the month of July, probably because of summer holiday. However the margin is not quite significant\n"
   ]
  }
 ],
 "metadata": {
  "kernelspec": {
   "display_name": "Python 3",
   "language": "python",
   "name": "python3"
  },
  "language_info": {
   "codemirror_mode": {
    "name": "ipython",
    "version": 3
   },
   "file_extension": ".py",
   "mimetype": "text/x-python",
   "name": "python",
   "nbconvert_exporter": "python",
   "pygments_lexer": "ipython3",
   "version": "3.8.8"
  }
 },
 "nbformat": 4,
 "nbformat_minor": 5
}
